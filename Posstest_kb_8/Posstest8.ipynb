{
 "cells": [
  {
   "cell_type": "markdown",
   "metadata": {},
   "source": [
    "# Posttest 8\n",
    "## Aliya Irfani\n",
    "Informatika A 2021"
   ]
  },
  {
   "cell_type": "markdown",
   "metadata": {},
   "source": [
    "###  Import library "
   ]
  },
  {
   "cell_type": "code",
   "execution_count": 1,
   "metadata": {},
   "outputs": [],
   "source": [
    "import pandas as pd\n",
    "import tensorflow as tf\n",
    "from tensorflow.keras import Sequential\n",
    "from tensorflow.keras.layers import Dense\n",
    "from sklearn.preprocessing import OrdinalEncoder\n",
    "from sklearn.model_selection import train_test_split"
   ]
  },
  {
   "cell_type": "markdown",
   "metadata": {},
   "source": [
    "### Membaca dataset\n"
   ]
  },
  {
   "cell_type": "code",
   "execution_count": 2,
   "metadata": {},
   "outputs": [
    {
     "data": {
      "text/html": [
       "<div>\n",
       "<style scoped>\n",
       "    .dataframe tbody tr th:only-of-type {\n",
       "        vertical-align: middle;\n",
       "    }\n",
       "\n",
       "    .dataframe tbody tr th {\n",
       "        vertical-align: top;\n",
       "    }\n",
       "\n",
       "    .dataframe thead th {\n",
       "        text-align: right;\n",
       "    }\n",
       "</style>\n",
       "<table border=\"1\" class=\"dataframe\">\n",
       "  <thead>\n",
       "    <tr style=\"text-align: right;\">\n",
       "      <th></th>\n",
       "      <th>age</th>\n",
       "      <th>job</th>\n",
       "      <th>marital</th>\n",
       "      <th>education</th>\n",
       "      <th>default</th>\n",
       "      <th>housing</th>\n",
       "      <th>loan</th>\n",
       "      <th>contact</th>\n",
       "      <th>month</th>\n",
       "      <th>day_of_week</th>\n",
       "      <th>...</th>\n",
       "      <th>campaign</th>\n",
       "      <th>pdays</th>\n",
       "      <th>previous</th>\n",
       "      <th>poutcome</th>\n",
       "      <th>emp.var.rate</th>\n",
       "      <th>cons.price.idx</th>\n",
       "      <th>cons.conf.idx</th>\n",
       "      <th>euribor3m</th>\n",
       "      <th>nr.employed</th>\n",
       "      <th>y</th>\n",
       "    </tr>\n",
       "  </thead>\n",
       "  <tbody>\n",
       "    <tr>\n",
       "      <th>0</th>\n",
       "      <td>56</td>\n",
       "      <td>housemaid</td>\n",
       "      <td>married</td>\n",
       "      <td>basic.4y</td>\n",
       "      <td>no</td>\n",
       "      <td>no</td>\n",
       "      <td>no</td>\n",
       "      <td>telephone</td>\n",
       "      <td>may</td>\n",
       "      <td>mon</td>\n",
       "      <td>...</td>\n",
       "      <td>1</td>\n",
       "      <td>999</td>\n",
       "      <td>0</td>\n",
       "      <td>nonexistent</td>\n",
       "      <td>1.1</td>\n",
       "      <td>93.994</td>\n",
       "      <td>-36.4</td>\n",
       "      <td>4.857</td>\n",
       "      <td>5191.0</td>\n",
       "      <td>no</td>\n",
       "    </tr>\n",
       "    <tr>\n",
       "      <th>1</th>\n",
       "      <td>57</td>\n",
       "      <td>services</td>\n",
       "      <td>married</td>\n",
       "      <td>high.school</td>\n",
       "      <td>unknown</td>\n",
       "      <td>no</td>\n",
       "      <td>no</td>\n",
       "      <td>telephone</td>\n",
       "      <td>may</td>\n",
       "      <td>mon</td>\n",
       "      <td>...</td>\n",
       "      <td>1</td>\n",
       "      <td>999</td>\n",
       "      <td>0</td>\n",
       "      <td>nonexistent</td>\n",
       "      <td>1.1</td>\n",
       "      <td>93.994</td>\n",
       "      <td>-36.4</td>\n",
       "      <td>4.857</td>\n",
       "      <td>5191.0</td>\n",
       "      <td>no</td>\n",
       "    </tr>\n",
       "    <tr>\n",
       "      <th>2</th>\n",
       "      <td>37</td>\n",
       "      <td>services</td>\n",
       "      <td>married</td>\n",
       "      <td>high.school</td>\n",
       "      <td>no</td>\n",
       "      <td>yes</td>\n",
       "      <td>no</td>\n",
       "      <td>telephone</td>\n",
       "      <td>may</td>\n",
       "      <td>mon</td>\n",
       "      <td>...</td>\n",
       "      <td>1</td>\n",
       "      <td>999</td>\n",
       "      <td>0</td>\n",
       "      <td>nonexistent</td>\n",
       "      <td>1.1</td>\n",
       "      <td>93.994</td>\n",
       "      <td>-36.4</td>\n",
       "      <td>4.857</td>\n",
       "      <td>5191.0</td>\n",
       "      <td>no</td>\n",
       "    </tr>\n",
       "    <tr>\n",
       "      <th>3</th>\n",
       "      <td>40</td>\n",
       "      <td>admin.</td>\n",
       "      <td>married</td>\n",
       "      <td>basic.6y</td>\n",
       "      <td>no</td>\n",
       "      <td>no</td>\n",
       "      <td>no</td>\n",
       "      <td>telephone</td>\n",
       "      <td>may</td>\n",
       "      <td>mon</td>\n",
       "      <td>...</td>\n",
       "      <td>1</td>\n",
       "      <td>999</td>\n",
       "      <td>0</td>\n",
       "      <td>nonexistent</td>\n",
       "      <td>1.1</td>\n",
       "      <td>93.994</td>\n",
       "      <td>-36.4</td>\n",
       "      <td>4.857</td>\n",
       "      <td>5191.0</td>\n",
       "      <td>no</td>\n",
       "    </tr>\n",
       "    <tr>\n",
       "      <th>4</th>\n",
       "      <td>56</td>\n",
       "      <td>services</td>\n",
       "      <td>married</td>\n",
       "      <td>high.school</td>\n",
       "      <td>no</td>\n",
       "      <td>no</td>\n",
       "      <td>yes</td>\n",
       "      <td>telephone</td>\n",
       "      <td>may</td>\n",
       "      <td>mon</td>\n",
       "      <td>...</td>\n",
       "      <td>1</td>\n",
       "      <td>999</td>\n",
       "      <td>0</td>\n",
       "      <td>nonexistent</td>\n",
       "      <td>1.1</td>\n",
       "      <td>93.994</td>\n",
       "      <td>-36.4</td>\n",
       "      <td>4.857</td>\n",
       "      <td>5191.0</td>\n",
       "      <td>no</td>\n",
       "    </tr>\n",
       "  </tbody>\n",
       "</table>\n",
       "<p>5 rows × 21 columns</p>\n",
       "</div>"
      ],
      "text/plain": [
       "   age        job  marital    education  default housing loan    contact  \\\n",
       "0   56  housemaid  married     basic.4y       no      no   no  telephone   \n",
       "1   57   services  married  high.school  unknown      no   no  telephone   \n",
       "2   37   services  married  high.school       no     yes   no  telephone   \n",
       "3   40     admin.  married     basic.6y       no      no   no  telephone   \n",
       "4   56   services  married  high.school       no      no  yes  telephone   \n",
       "\n",
       "  month day_of_week  ...  campaign  pdays  previous     poutcome emp.var.rate  \\\n",
       "0   may         mon  ...         1    999         0  nonexistent          1.1   \n",
       "1   may         mon  ...         1    999         0  nonexistent          1.1   \n",
       "2   may         mon  ...         1    999         0  nonexistent          1.1   \n",
       "3   may         mon  ...         1    999         0  nonexistent          1.1   \n",
       "4   may         mon  ...         1    999         0  nonexistent          1.1   \n",
       "\n",
       "   cons.price.idx  cons.conf.idx  euribor3m  nr.employed   y  \n",
       "0          93.994          -36.4      4.857       5191.0  no  \n",
       "1          93.994          -36.4      4.857       5191.0  no  \n",
       "2          93.994          -36.4      4.857       5191.0  no  \n",
       "3          93.994          -36.4      4.857       5191.0  no  \n",
       "4          93.994          -36.4      4.857       5191.0  no  \n",
       "\n",
       "[5 rows x 21 columns]"
      ]
     },
     "execution_count": 2,
     "metadata": {},
     "output_type": "execute_result"
    }
   ],
   "source": [
    "df = pd.read_csv('bank-additional-full.csv', sep=';')\n",
    "df.head()"
   ]
  },
  {
   "cell_type": "markdown",
   "metadata": {},
   "source": [
    "###  nilai null"
   ]
  },
  {
   "cell_type": "code",
   "execution_count": 3,
   "metadata": {
    "scrolled": true
   },
   "outputs": [
    {
     "data": {
      "text/plain": [
       "age               0\n",
       "job               0\n",
       "marital           0\n",
       "education         0\n",
       "default           0\n",
       "housing           0\n",
       "loan              0\n",
       "contact           0\n",
       "month             0\n",
       "day_of_week       0\n",
       "duration          0\n",
       "campaign          0\n",
       "pdays             0\n",
       "previous          0\n",
       "poutcome          0\n",
       "emp.var.rate      0\n",
       "cons.price.idx    0\n",
       "cons.conf.idx     0\n",
       "euribor3m         0\n",
       "nr.employed       0\n",
       "y                 0\n",
       "dtype: int64"
      ]
     },
     "execution_count": 3,
     "metadata": {},
     "output_type": "execute_result"
    }
   ],
   "source": [
    "df.isnull().sum()"
   ]
  },
  {
   "cell_type": "markdown",
   "metadata": {},
   "source": [
    "##  tipe data"
   ]
  },
  {
   "cell_type": "code",
   "execution_count": 8,
   "metadata": {},
   "outputs": [
    {
     "data": {
      "text/plain": [
       "age                 int64\n",
       "job                object\n",
       "marital            object\n",
       "education          object\n",
       "default            object\n",
       "housing            object\n",
       "loan               object\n",
       "contact            object\n",
       "month              object\n",
       "day_of_week        object\n",
       "duration            int64\n",
       "campaign            int64\n",
       "pdays               int64\n",
       "previous            int64\n",
       "poutcome           object\n",
       "emp.var.rate      float64\n",
       "cons.price.idx    float64\n",
       "cons.conf.idx     float64\n",
       "euribor3m         float64\n",
       "nr.employed       float64\n",
       "y                  object\n",
       "dtype: object"
      ]
     },
     "execution_count": 8,
     "metadata": {},
     "output_type": "execute_result"
    }
   ],
   "source": [
    "df.dtypes"
   ]
  },
  {
   "cell_type": "code",
   "execution_count": 9,
   "metadata": {},
   "outputs": [
    {
     "data": {
      "text/plain": [
       "array(['married', 'single', 'divorced', 'unknown'], dtype=object)"
      ]
     },
     "execution_count": 9,
     "metadata": {},
     "output_type": "execute_result"
    }
   ],
   "source": [
    "df['marital'].unique()"
   ]
  },
  {
   "cell_type": "markdown",
   "metadata": {},
   "source": [
    "### Encoding"
   ]
  },
  {
   "cell_type": "code",
   "execution_count": 10,
   "metadata": {},
   "outputs": [],
   "source": [
    "encoder = OrdinalEncoder()\n",
    "df[\"job\"] = encoder.fit_transform(df[[\"job\"]])\n",
    "df[\"education\"] = encoder.fit_transform(df[[\"education\"]])\n",
    "df[\"loan\"] = encoder.fit_transform(df[[\"loan\"]])\n",
    "df[\"marital\"] = encoder.fit_transform(df[[\"marital\"]])"
   ]
  },
  {
   "cell_type": "markdown",
   "metadata": {},
   "source": [
    "### Data split"
   ]
  },
  {
   "cell_type": "code",
   "execution_count": 11,
   "metadata": {},
   "outputs": [
    {
     "name": "stdout",
     "output_type": "stream",
     "text": [
      "Dimensi x_Train:  (28831, 3)\n",
      "Dimensi x_Test:  (12357, 3)\n",
      "Dimensi y_Train:  (28831,)\n",
      "Dimensi y_Test:  (12357,)\n"
     ]
    }
   ],
   "source": [
    "X = df[['job','education', 'loan']]\n",
    "Y = df['marital']\n",
    "\n",
    "X_train, X_test, Y_train, Y_test = train_test_split(X, Y, test_size=0.3)\n",
    "\n",
    "# Menampilkan Dimensi\n",
    "print(\"Dimensi x_Train: \", X_train.shape)\n",
    "print(\"Dimensi x_Test: \", X_test.shape)\n",
    "print(\"Dimensi y_Train: \", Y_train.shape)\n",
    "print(\"Dimensi y_Test: \", Y_test.shape)"
   ]
  },
  {
   "cell_type": "markdown",
   "metadata": {},
   "source": [
    "### Encoding label\n"
   ]
  },
  {
   "cell_type": "code",
   "execution_count": 12,
   "metadata": {},
   "outputs": [],
   "source": [
    "num_class = 4\n",
    "\n",
    "y_train = tf.keras.utils.to_categorical(Y_train, num_class)\n",
    "y_test = tf.keras.utils.to_categorical(Y_test, num_class)"
   ]
  },
  {
   "cell_type": "markdown",
   "metadata": {},
   "source": [
    "### DNN"
   ]
  },
  {
   "cell_type": "code",
   "execution_count": 13,
   "metadata": {},
   "outputs": [
    {
     "name": "stdout",
     "output_type": "stream",
     "text": [
      "Model: \"sequential\"\n",
      "_________________________________________________________________\n",
      " Layer (type)                Output Shape              Param #   \n",
      "=================================================================\n",
      " dense (Dense)               (None, 256)               1024      \n",
      "                                                                 \n",
      " dense_1 (Dense)             (None, 128)               32896     \n",
      "                                                                 \n",
      " dense_2 (Dense)             (None, 64)                8256      \n",
      "                                                                 \n",
      " dense_3 (Dense)             (None, 4)                 260       \n",
      "                                                                 \n",
      "=================================================================\n",
      "Total params: 42,436\n",
      "Trainable params: 42,436\n",
      "Non-trainable params: 0\n",
      "_________________________________________________________________\n"
     ]
    }
   ],
   "source": [
    "model = tf.keras.Sequential(\n",
    "    [\n",
    "        tf.keras.layers.Dense(256, activation='relu', input_dim = 3),\n",
    "        tf.keras.layers.Dense(128, activation='relu'),\n",
    "        tf.keras.layers.Dense(64, activation='relu'),\n",
    "        tf.keras.layers.Dense(4, activation='softmax')\n",
    "    ]\n",
    ")\n",
    "model.summary()"
   ]
  },
  {
   "cell_type": "markdown",
   "metadata": {},
   "source": [
    "### Optimasi "
   ]
  },
  {
   "cell_type": "code",
   "execution_count": 14,
   "metadata": {},
   "outputs": [],
   "source": [
    "model.compile(optimizer='sgd', loss='binary_crossentropy', metrics=['accuracy'])"
   ]
  },
  {
   "cell_type": "markdown",
   "metadata": {},
   "source": [
    "### Training "
   ]
  },
  {
   "cell_type": "code",
   "execution_count": 15,
   "metadata": {},
   "outputs": [
    {
     "name": "stdout",
     "output_type": "stream",
     "text": [
      "Epoch 1/50\n",
      "57/57 [==============================] - 1s 5ms/step - loss: 0.6101 - accuracy: 0.5719 - val_loss: 0.5447 - val_accuracy: 0.6012\n",
      "Epoch 2/50\n",
      "57/57 [==============================] - 0s 3ms/step - loss: 0.5115 - accuracy: 0.6070 - val_loss: 0.4886 - val_accuracy: 0.6012\n",
      "Epoch 3/50\n",
      "57/57 [==============================] - 0s 3ms/step - loss: 0.4746 - accuracy: 0.6070 - val_loss: 0.4662 - val_accuracy: 0.6012\n",
      "Epoch 4/50\n",
      "57/57 [==============================] - 0s 3ms/step - loss: 0.4589 - accuracy: 0.6070 - val_loss: 0.4558 - val_accuracy: 0.6012\n",
      "Epoch 5/50\n",
      "57/57 [==============================] - 0s 3ms/step - loss: 0.4509 - accuracy: 0.6070 - val_loss: 0.4497 - val_accuracy: 0.6012\n",
      "Epoch 6/50\n",
      "57/57 [==============================] - 0s 3ms/step - loss: 0.4458 - accuracy: 0.6070 - val_loss: 0.4457 - val_accuracy: 0.6012\n",
      "Epoch 7/50\n",
      "57/57 [==============================] - 0s 3ms/step - loss: 0.4422 - accuracy: 0.6070 - val_loss: 0.4427 - val_accuracy: 0.6012\n",
      "Epoch 8/50\n",
      "57/57 [==============================] - 0s 3ms/step - loss: 0.4395 - accuracy: 0.6070 - val_loss: 0.4403 - val_accuracy: 0.6012\n",
      "Epoch 9/50\n",
      "57/57 [==============================] - 0s 3ms/step - loss: 0.4372 - accuracy: 0.6070 - val_loss: 0.4383 - val_accuracy: 0.6012\n",
      "Epoch 10/50\n",
      "57/57 [==============================] - 0s 3ms/step - loss: 0.4353 - accuracy: 0.6070 - val_loss: 0.4366 - val_accuracy: 0.6012\n",
      "Epoch 11/50\n",
      "57/57 [==============================] - 0s 3ms/step - loss: 0.4337 - accuracy: 0.6070 - val_loss: 0.4351 - val_accuracy: 0.6012\n",
      "Epoch 12/50\n",
      "57/57 [==============================] - 0s 3ms/step - loss: 0.4321 - accuracy: 0.6070 - val_loss: 0.4337 - val_accuracy: 0.6012\n",
      "Epoch 13/50\n",
      "57/57 [==============================] - 0s 3ms/step - loss: 0.4307 - accuracy: 0.6070 - val_loss: 0.4323 - val_accuracy: 0.6012\n",
      "Epoch 14/50\n",
      "57/57 [==============================] - 0s 3ms/step - loss: 0.4295 - accuracy: 0.6070 - val_loss: 0.4312 - val_accuracy: 0.6012\n",
      "Epoch 15/50\n",
      "57/57 [==============================] - 0s 3ms/step - loss: 0.4284 - accuracy: 0.6070 - val_loss: 0.4303 - val_accuracy: 0.6012\n",
      "Epoch 16/50\n",
      "57/57 [==============================] - 0s 3ms/step - loss: 0.4273 - accuracy: 0.6070 - val_loss: 0.4292 - val_accuracy: 0.6012\n",
      "Epoch 17/50\n",
      "57/57 [==============================] - 0s 3ms/step - loss: 0.4264 - accuracy: 0.6070 - val_loss: 0.4283 - val_accuracy: 0.6012\n",
      "Epoch 18/50\n",
      "57/57 [==============================] - 0s 3ms/step - loss: 0.4255 - accuracy: 0.6070 - val_loss: 0.4275 - val_accuracy: 0.6012\n",
      "Epoch 19/50\n",
      "57/57 [==============================] - 0s 3ms/step - loss: 0.4246 - accuracy: 0.6070 - val_loss: 0.4266 - val_accuracy: 0.6012\n",
      "Epoch 20/50\n",
      "57/57 [==============================] - 0s 3ms/step - loss: 0.4237 - accuracy: 0.6070 - val_loss: 0.4258 - val_accuracy: 0.6012\n",
      "Epoch 21/50\n",
      "57/57 [==============================] - 0s 3ms/step - loss: 0.4229 - accuracy: 0.6070 - val_loss: 0.4251 - val_accuracy: 0.6012\n",
      "Epoch 22/50\n",
      "57/57 [==============================] - 0s 3ms/step - loss: 0.4221 - accuracy: 0.6070 - val_loss: 0.4243 - val_accuracy: 0.6012\n",
      "Epoch 23/50\n",
      "57/57 [==============================] - 0s 3ms/step - loss: 0.4214 - accuracy: 0.6070 - val_loss: 0.4235 - val_accuracy: 0.6012\n",
      "Epoch 24/50\n",
      "57/57 [==============================] - 0s 3ms/step - loss: 0.4206 - accuracy: 0.6070 - val_loss: 0.4229 - val_accuracy: 0.6012\n",
      "Epoch 25/50\n",
      "57/57 [==============================] - 0s 3ms/step - loss: 0.4199 - accuracy: 0.6070 - val_loss: 0.4223 - val_accuracy: 0.6012\n",
      "Epoch 26/50\n",
      "57/57 [==============================] - 0s 3ms/step - loss: 0.4192 - accuracy: 0.6070 - val_loss: 0.4215 - val_accuracy: 0.6012\n",
      "Epoch 27/50\n",
      "57/57 [==============================] - 0s 3ms/step - loss: 0.4186 - accuracy: 0.6070 - val_loss: 0.4209 - val_accuracy: 0.6012\n",
      "Epoch 28/50\n",
      "57/57 [==============================] - 0s 3ms/step - loss: 0.4179 - accuracy: 0.6070 - val_loss: 0.4203 - val_accuracy: 0.6012\n",
      "Epoch 29/50\n",
      "57/57 [==============================] - 0s 3ms/step - loss: 0.4173 - accuracy: 0.6070 - val_loss: 0.4197 - val_accuracy: 0.6012\n",
      "Epoch 30/50\n",
      "57/57 [==============================] - 0s 3ms/step - loss: 0.4167 - accuracy: 0.6070 - val_loss: 0.4191 - val_accuracy: 0.6012\n",
      "Epoch 31/50\n",
      "57/57 [==============================] - 0s 3ms/step - loss: 0.4161 - accuracy: 0.6070 - val_loss: 0.4185 - val_accuracy: 0.6012\n",
      "Epoch 32/50\n",
      "57/57 [==============================] - 0s 3ms/step - loss: 0.4155 - accuracy: 0.6070 - val_loss: 0.4179 - val_accuracy: 0.6012\n",
      "Epoch 33/50\n",
      "57/57 [==============================] - 0s 3ms/step - loss: 0.4149 - accuracy: 0.6070 - val_loss: 0.4175 - val_accuracy: 0.6012\n",
      "Epoch 34/50\n",
      "57/57 [==============================] - 0s 3ms/step - loss: 0.4144 - accuracy: 0.6070 - val_loss: 0.4169 - val_accuracy: 0.6012\n",
      "Epoch 35/50\n",
      "57/57 [==============================] - 0s 3ms/step - loss: 0.4139 - accuracy: 0.6070 - val_loss: 0.4163 - val_accuracy: 0.6012\n",
      "Epoch 36/50\n",
      "57/57 [==============================] - 0s 3ms/step - loss: 0.4133 - accuracy: 0.6070 - val_loss: 0.4158 - val_accuracy: 0.6012\n",
      "Epoch 37/50\n",
      "57/57 [==============================] - 0s 3ms/step - loss: 0.4128 - accuracy: 0.6070 - val_loss: 0.4154 - val_accuracy: 0.6012\n",
      "Epoch 38/50\n",
      "57/57 [==============================] - 0s 3ms/step - loss: 0.4123 - accuracy: 0.6070 - val_loss: 0.4149 - val_accuracy: 0.6012\n",
      "Epoch 39/50\n",
      "57/57 [==============================] - 0s 3ms/step - loss: 0.4118 - accuracy: 0.6070 - val_loss: 0.4144 - val_accuracy: 0.6012\n",
      "Epoch 40/50\n",
      "57/57 [==============================] - 0s 3ms/step - loss: 0.4113 - accuracy: 0.6070 - val_loss: 0.4139 - val_accuracy: 0.6012\n",
      "Epoch 41/50\n",
      "57/57 [==============================] - 0s 3ms/step - loss: 0.4108 - accuracy: 0.6070 - val_loss: 0.4135 - val_accuracy: 0.6012\n",
      "Epoch 42/50\n",
      "57/57 [==============================] - 0s 3ms/step - loss: 0.4104 - accuracy: 0.6070 - val_loss: 0.4130 - val_accuracy: 0.6012\n",
      "Epoch 43/50\n",
      "57/57 [==============================] - 0s 3ms/step - loss: 0.4099 - accuracy: 0.6070 - val_loss: 0.4126 - val_accuracy: 0.6012\n",
      "Epoch 44/50\n",
      "57/57 [==============================] - 0s 3ms/step - loss: 0.4095 - accuracy: 0.6070 - val_loss: 0.4122 - val_accuracy: 0.6012\n",
      "Epoch 45/50\n",
      "57/57 [==============================] - 0s 3ms/step - loss: 0.4091 - accuracy: 0.6070 - val_loss: 0.4118 - val_accuracy: 0.6012\n",
      "Epoch 46/50\n",
      "57/57 [==============================] - 0s 3ms/step - loss: 0.4087 - accuracy: 0.6070 - val_loss: 0.4114 - val_accuracy: 0.6012\n",
      "Epoch 47/50\n",
      "57/57 [==============================] - 0s 3ms/step - loss: 0.4083 - accuracy: 0.6070 - val_loss: 0.4110 - val_accuracy: 0.6012\n",
      "Epoch 48/50\n",
      "57/57 [==============================] - 0s 3ms/step - loss: 0.4079 - accuracy: 0.6070 - val_loss: 0.4107 - val_accuracy: 0.6012\n",
      "Epoch 49/50\n",
      "57/57 [==============================] - 0s 3ms/step - loss: 0.4075 - accuracy: 0.6070 - val_loss: 0.4103 - val_accuracy: 0.6012\n",
      "Epoch 50/50\n",
      "57/57 [==============================] - 0s 3ms/step - loss: 0.4072 - accuracy: 0.6070 - val_loss: 0.4099 - val_accuracy: 0.6012\n"
     ]
    },
    {
     "data": {
      "text/plain": [
       "<keras.callbacks.History at 0x1ed706d77c0>"
      ]
     },
     "execution_count": 15,
     "metadata": {},
     "output_type": "execute_result"
    }
   ],
   "source": [
    "model.fit(X_train, y_train, epochs = 50, batch_size = 512, validation_data = (X_test, y_test))"
   ]
  },
  {
   "cell_type": "markdown",
   "metadata": {},
   "source": [
    "### Evaluasi "
   ]
  },
  {
   "cell_type": "code",
   "execution_count": 16,
   "metadata": {},
   "outputs": [
    {
     "name": "stdout",
     "output_type": "stream",
     "text": [
      "387/387 [==============================] - 0s 682us/step - loss: 0.4099 - accuracy: 0.6012\n",
      "901/901 [==============================] - 1s 655us/step - loss: 0.4070 - accuracy: 0.6070\n",
      "----------------------------------------\n",
      "            SCORE TESTING                \n",
      "----------------------------------------\n",
      " TEST LOSS        :  0.409938246011734\n",
      " TEST ACCURACY    :  0.6011977195739746\n",
      "----------------------------------------\n",
      "            SCORE TRAINING                \n",
      "----------------------------------------\n",
      " TEST LOSS        :  0.4069616198539734\n",
      " TEST ACCURACY    :  0.6069508790969849\n",
      "----------------------------------------\n"
     ]
    }
   ],
   "source": [
    "score_testing = model.evaluate(X_test, y_test)\n",
    "score_training = model.evaluate(X_train, y_train)\n",
    "\n",
    "print(\"\"\"----------------------------------------\n",
    "            SCORE TESTING                \n",
    "----------------------------------------\"\"\")\n",
    "print(\" TEST LOSS        : \", score_testing[0])\n",
    "print(\" TEST ACCURACY    : \", score_testing[1])\n",
    "print(\"\"\"----------------------------------------\n",
    "            SCORE TRAINING                \n",
    "----------------------------------------\"\"\")\n",
    "print(\" TEST LOSS        : \", score_training[0])\n",
    "print(\" TEST ACCURACY    : \", score_training[1])\n",
    "print(\"----------------------------------------\")"
   ]
  },
  {
   "cell_type": "markdown",
   "metadata": {},
   "source": [
    "## Save model"
   ]
  },
  {
   "cell_type": "code",
   "execution_count": 21,
   "metadata": {},
   "outputs": [],
   "source": [
    "model.save('Posttest8-KB-aliya.h5')"
   ]
  },
  {
   "cell_type": "code",
   "execution_count": null,
   "metadata": {},
   "outputs": [],
   "source": []
  }
 ],
 "metadata": {
  "kernelspec": {
   "display_name": "Sherina_050",
   "language": "python",
   "name": "sherina_050"
  },
  "language_info": {
   "codemirror_mode": {
    "name": "ipython",
    "version": 3
   },
   "file_extension": ".py",
   "mimetype": "text/x-python",
   "name": "python",
   "nbconvert_exporter": "python",
   "pygments_lexer": "ipython3",
   "version": "3.10.7"
  }
 },
 "nbformat": 4,
 "nbformat_minor": 2
}
