{
 "cells": [
  {
   "cell_type": "markdown",
   "id": "91e1c8cc-7cf5-4dc5-b806-2c3ae106c9b9",
   "metadata": {},
   "source": [
    "### Aliya Irfani\n",
    "### 2109106007\n",
    "### Informatika A 2021"
   ]
  },
  {
   "cell_type": "markdown",
   "id": "54dab397-d710-4d1b-9d2a-fe7e2e057eba",
   "metadata": {},
   "source": [
    "## POSTTEST 7 TENSORFLOW"
   ]
  },
  {
   "cell_type": "code",
   "execution_count": 1,
   "id": "0c79fe53-48c3-4783-9707-57c27d3afb67",
   "metadata": {},
   "outputs": [],
   "source": [
    "import tensorflow as tf"
   ]
  },
  {
   "cell_type": "code",
   "execution_count": 4,
   "id": "9b22b2ff-fe69-49e8-8229-cff8d88dfe4b",
   "metadata": {},
   "outputs": [
    {
     "data": {
      "text/plain": [
       "<tf.Tensor: shape=(5, 5), dtype=float32, numpy=\n",
       "array([[-1.0919173 , -0.50867236, -0.60065955, -1.1253885 , -0.8871544 ],\n",
       "       [-0.6092709 ,  0.587739  , -0.29714295, -0.8393197 ,  0.9166867 ],\n",
       "       [-0.10452037,  1.3851545 ,  0.4848608 ,  0.2158733 ,  0.8586742 ],\n",
       "       [ 0.76974714, -0.31655243, -0.17181592, -0.544253  , -1.0112499 ],\n",
       "       [-1.3278526 ,  0.12330144,  1.8880543 , -1.6810323 ,  1.5303435 ]],\n",
       "      dtype=float32)>"
      ]
     },
     "execution_count": 4,
     "metadata": {},
     "output_type": "execute_result"
    }
   ],
   "source": [
    "random_tensor = tf.random.normal([5,5])\n",
    "random_tensor"
   ]
  },
  {
   "cell_type": "code",
   "execution_count": 14,
   "id": "fadcb335-05ee-4564-9f69-e4cdb4188915",
   "metadata": {},
   "outputs": [
    {
     "data": {
      "text/plain": [
       "<tf.Tensor: shape=(5, 5), dtype=float32, numpy=\n",
       "array([[ 2.,  3.,  5.,  7., 11.],\n",
       "       [13., 17., 19., 23., 29.],\n",
       "       [31., 37., 41., 43., 47.],\n",
       "       [53., 59., 61., 67., 71.],\n",
       "       [73., 79., 83., 89., 97.]], dtype=float32)>"
      ]
     },
     "execution_count": 14,
     "metadata": {},
     "output_type": "execute_result"
    }
   ],
   "source": [
    "prime_tensor = tf.constant([2, 3, 5, 7, 11, 13, 17, 19, 23, 29, 31, 37, 41, 43, 47, 53, 59, 61, 67, 71, 73, 79, 83, 89, 97], shape = [5,5], dtype = tf.float32)\n",
    "prime_tensor"
   ]
  },
  {
   "cell_type": "markdown",
   "id": "6c575032-8d51-4025-b5c8-b691f19f2567",
   "metadata": {},
   "source": [
    "### Menampilkan dimensi dari 2 variable"
   ]
  },
  {
   "cell_type": "code",
   "execution_count": 17,
   "id": "406c1913-febc-4423-a471-764c02fb1563",
   "metadata": {},
   "outputs": [
    {
     "data": {
      "text/plain": [
       "TensorShape([5, 5])"
      ]
     },
     "execution_count": 17,
     "metadata": {},
     "output_type": "execute_result"
    }
   ],
   "source": [
    "# menampilkan dimensi variable prime_tensor dengan dimension display\n",
    "dimensi_prime = tf.constant([2, 3, 5, 7, 11, 13, 17, 19, 23, 29, 31, 37, 41, 43, 47, 53, 59, 61, 67, 71, 73, 79, 83, 89, 97], shape = [5,5])\n",
    "dimensi_prime.shape"
   ]
  },
  {
   "cell_type": "code",
   "execution_count": 16,
   "id": "375dcf11-6666-43fb-8aa8-51cced4b649f",
   "metadata": {},
   "outputs": [
    {
     "data": {
      "text/plain": [
       "<tf.Tensor: shape=(2,), dtype=int32, numpy=array([5, 5])>"
      ]
     },
     "execution_count": 16,
     "metadata": {},
     "output_type": "execute_result"
    }
   ],
   "source": [
    "tf.shape(dimensi_prime)"
   ]
  },
  {
   "cell_type": "code",
   "execution_count": 18,
   "id": "2340b3ce-d926-4930-8aa3-dc3709bab72b",
   "metadata": {},
   "outputs": [
    {
     "data": {
      "text/plain": [
       "TensorShape([5, 5])"
      ]
     },
     "execution_count": 18,
     "metadata": {},
     "output_type": "execute_result"
    }
   ],
   "source": [
    "# menampilkan dimensi variabele random_tensor dengan dimension expansion\n",
    "dimensi_random = tf.random.normal([5,5], seed=1)\n",
    "dimensi_random.shape"
   ]
  },
  {
   "cell_type": "code",
   "execution_count": 19,
   "id": "b51aaaee-987f-43b7-87bd-ebad4a881fdd",
   "metadata": {},
   "outputs": [
    {
     "data": {
      "text/plain": [
       "TensorShape([1, 5, 5])"
      ]
     },
     "execution_count": 19,
     "metadata": {},
     "output_type": "execute_result"
    }
   ],
   "source": [
    "tf.expand_dims(dimensi_random, axis=0).shape"
   ]
  },
  {
   "cell_type": "markdown",
   "id": "6ac8d762-f08f-4568-a9a5-f8f6eb97f30e",
   "metadata": {},
   "source": [
    "###  Perhitungan aritmetika 2 variable"
   ]
  },
  {
   "cell_type": "code",
   "execution_count": 21,
   "id": "9ee7deee-542b-4a0e-b2e1-ca1e409dd2d7",
   "metadata": {},
   "outputs": [
    {
     "data": {
      "text/plain": [
       "<tf.Tensor: shape=(5, 5), dtype=float32, numpy=\n",
       "array([[ 0.9080827,  2.4913278,  4.3993406,  5.8746114, 10.112845 ],\n",
       "       [12.390729 , 17.587738 , 18.702858 , 22.16068  , 29.916687 ],\n",
       "       [30.89548  , 38.385155 , 41.48486  , 43.215874 , 47.858673 ],\n",
       "       [53.76975  , 58.68345  , 60.828182 , 66.45575  , 69.98875  ],\n",
       "       [71.67215  , 79.1233   , 84.888054 , 87.31897  , 98.53034  ]],\n",
       "      dtype=float32)>"
      ]
     },
     "execution_count": 21,
     "metadata": {},
     "output_type": "execute_result"
    }
   ],
   "source": [
    "# pertambahan\n",
    "a = random_tensor\n",
    "b = prime_tensor\n",
    "tf.add(a,b)"
   ]
  },
  {
   "cell_type": "code",
   "execution_count": 27,
   "id": "7a7aa372-6646-4972-90b6-66d41c028a23",
   "metadata": {},
   "outputs": [
    {
     "data": {
      "text/plain": [
       "<tf.Tensor: shape=(5, 5), dtype=float32, numpy=\n",
       "array([[ -3.0919173,  -3.5086722,  -5.6006594,  -8.125388 , -11.887155 ],\n",
       "       [-13.609271 , -16.412262 , -19.297142 , -23.83932  , -28.083313 ],\n",
       "       [-31.10452  , -35.614845 , -40.51514  , -42.784126 , -46.141327 ],\n",
       "       [-52.23025  , -59.31655  , -61.171818 , -67.54425  , -72.01125  ],\n",
       "       [-74.32785  , -78.8767   , -81.111946 , -90.68103  , -95.46966  ]],\n",
       "      dtype=float32)>"
      ]
     },
     "execution_count": 27,
     "metadata": {},
     "output_type": "execute_result"
    }
   ],
   "source": [
    "# pengurangan\n",
    "tf.subtract(a,b)"
   ]
  },
  {
   "cell_type": "code",
   "execution_count": 28,
   "id": "27132d55-4baa-4c6e-a393-516713407524",
   "metadata": {},
   "outputs": [
    {
     "data": {
      "text/plain": [
       "<tf.Tensor: shape=(5, 5), dtype=float32, numpy=\n",
       "array([[-151.82489 , -170.6307  , -182.03392 , -199.52902 , -220.95015 ],\n",
       "       [  19.64482 ,   20.067848,   20.824324,   21.826649,   25.703646],\n",
       "       [ 106.953156,  121.745705,  130.11285 ,  142.86145 ,  160.42662 ],\n",
       "       [-110.568634, -121.42901 , -126.34338 , -135.74675 , -145.52136 ],\n",
       "       [  80.09727 ,   89.68681 ,   97.58923 ,   98.29871 ,  106.79794 ]],\n",
       "      dtype=float32)>"
      ]
     },
     "execution_count": 28,
     "metadata": {},
     "output_type": "execute_result"
    }
   ],
   "source": [
    "# perkalian\n",
    "tf.matmul(a,b)"
   ]
  },
  {
   "cell_type": "code",
   "execution_count": 29,
   "id": "d834f70d-1ffe-4315-89e5-c5d95016c97c",
   "metadata": {},
   "outputs": [
    {
     "data": {
      "text/plain": [
       "<tf.Tensor: shape=(5, 5), dtype=float32, numpy=\n",
       "array([[-0.54595864, -0.16955745, -0.12013191, -0.16076979, -0.0806504 ],\n",
       "       [-0.04686699,  0.03457288, -0.0156391 , -0.03649216,  0.03160989],\n",
       "       [-0.00337162,  0.03743661,  0.01182587,  0.00502031,  0.01826966],\n",
       "       [ 0.01452353, -0.0053653 , -0.00281665, -0.00812318, -0.01424296],\n",
       "       [-0.01818976,  0.00156078,  0.02274764, -0.018888  ,  0.01577674]],\n",
       "      dtype=float32)>"
      ]
     },
     "execution_count": 29,
     "metadata": {},
     "output_type": "execute_result"
    }
   ],
   "source": [
    "# pembagian\n",
    "tf.divide(a,b)"
   ]
  },
  {
   "cell_type": "code",
   "execution_count": 30,
   "id": "3c7ced64-55df-4e34-8cde-0c77a28381e5",
   "metadata": {},
   "outputs": [
    {
     "data": {
      "text/plain": [
       "<tf.Tensor: shape=(5, 5), dtype=float32, numpy=\n",
       "array([[ 1.19228339e+00, -1.31617740e-01, -7.81883299e-02,\n",
       "        -2.28621626e+00, -2.67911464e-01],\n",
       "       [-1.59417279e-03,  1.19161661e-04, -9.69043457e-11,\n",
       "        -1.77963376e-02,  8.02429989e-02],\n",
       "       [-3.93757223e-31,  1.71962547e+05,  1.28914064e-13,\n",
       "         2.34722170e-29,  7.76132976e-04],\n",
       "       [ 9.47214630e-07, -3.35964561e-30, -0.00000000e+00,\n",
       "        -1.98909392e-18, -2.21285462e+00],\n",
       "       [-9.77103424e+08,  0.00000000e+00,  8.11336353e+22,\n",
       "        -1.19198056e+20,  8.40478164e+17]], dtype=float32)>"
      ]
     },
     "execution_count": 30,
     "metadata": {},
     "output_type": "execute_result"
    }
   ],
   "source": [
    "# pangkat\n",
    "tf.pow(a,b)"
   ]
  },
  {
   "cell_type": "markdown",
   "id": "549585cf-ce4f-4cbc-837d-ae438add317f",
   "metadata": {},
   "source": [
    "###  Nilai maksimum dan minimum dari variable random_tensor"
   ]
  },
  {
   "cell_type": "code",
   "execution_count": 34,
   "id": "d238a3bd-df08-466e-9912-d687e6f63ed2",
   "metadata": {},
   "outputs": [
    {
     "data": {
      "text/plain": [
       "<tf.Tensor: shape=(5,), dtype=int64, numpy=array([3, 2, 4, 2, 4], dtype=int64)>"
      ]
     },
     "execution_count": 34,
     "metadata": {},
     "output_type": "execute_result"
    }
   ],
   "source": [
    "argmax = random_tensor\n",
    "max1 = tf.argmax(argmax, axis=0) # unuk malihat lokasi nilai max per kolom\n",
    "max1"
   ]
  },
  {
   "cell_type": "code",
   "execution_count": 35,
   "id": "6196f8bb-5ccb-447c-a760-08240cb3d45b",
   "metadata": {},
   "outputs": [
    {
     "data": {
      "text/plain": [
       "<tf.Tensor: shape=(5,), dtype=int64, numpy=array([1, 4, 1, 0, 2], dtype=int64)>"
      ]
     },
     "execution_count": 35,
     "metadata": {},
     "output_type": "execute_result"
    }
   ],
   "source": [
    "max2 = tf.argmax(argmax, axis=1) # unuk malihat lokasi nilai max per baris\n",
    "max2"
   ]
  },
  {
   "cell_type": "code",
   "execution_count": 38,
   "id": "75bc0337-b6cd-4455-94ac-1d77508a8743",
   "metadata": {},
   "outputs": [
    {
     "data": {
      "text/plain": [
       "<tf.Tensor: shape=(5,), dtype=int64, numpy=array([4, 0, 0, 4, 3], dtype=int64)>"
      ]
     },
     "execution_count": 38,
     "metadata": {},
     "output_type": "execute_result"
    }
   ],
   "source": [
    "argmin = random_tensor\n",
    "min1 = tf.argmin(argmin, axis = 0) # unuk malihat lokasi nilai min per kolom\n",
    "min1"
   ]
  },
  {
   "cell_type": "code",
   "execution_count": 39,
   "id": "d1222841-51c3-4032-99ef-08e3075b57d7",
   "metadata": {},
   "outputs": [
    {
     "data": {
      "text/plain": [
       "<tf.Tensor: shape=(5,), dtype=int64, numpy=array([3, 3, 0, 4, 3], dtype=int64)>"
      ]
     },
     "execution_count": 39,
     "metadata": {},
     "output_type": "execute_result"
    }
   ],
   "source": [
    "min2 = tf.argmin(argmin, axis=1) # unuk malihat lokasi nilai min per baris\n",
    "min2"
   ]
  },
  {
   "cell_type": "markdown",
   "id": "cb17538d-1d29-4c7c-a487-2474470fdec7",
   "metadata": {},
   "source": [
    "###  Hasil dari penggabungan variable random_tensor dengan prime_tensor (concatenation)"
   ]
  },
  {
   "cell_type": "code",
   "execution_count": 40,
   "id": "3692f0c7-1abb-4291-afe2-4cac0b8b422d",
   "metadata": {},
   "outputs": [],
   "source": [
    "concat1 = random_tensor\n",
    "concat2 = prime_tensor"
   ]
  },
  {
   "cell_type": "code",
   "execution_count": 41,
   "id": "5ca74341-9c8c-4f27-98c7-ea74aed7ddb2",
   "metadata": {},
   "outputs": [
    {
     "data": {
      "text/plain": [
       "<tf.Tensor: shape=(10, 5), dtype=float32, numpy=\n",
       "array([[-1.0919173 , -0.50867236, -0.60065955, -1.1253885 , -0.8871544 ],\n",
       "       [-0.6092709 ,  0.587739  , -0.29714295, -0.8393197 ,  0.9166867 ],\n",
       "       [-0.10452037,  1.3851545 ,  0.4848608 ,  0.2158733 ,  0.8586742 ],\n",
       "       [ 0.76974714, -0.31655243, -0.17181592, -0.544253  , -1.0112499 ],\n",
       "       [-1.3278526 ,  0.12330144,  1.8880543 , -1.6810323 ,  1.5303435 ],\n",
       "       [ 2.        ,  3.        ,  5.        ,  7.        , 11.        ],\n",
       "       [13.        , 17.        , 19.        , 23.        , 29.        ],\n",
       "       [31.        , 37.        , 41.        , 43.        , 47.        ],\n",
       "       [53.        , 59.        , 61.        , 67.        , 71.        ],\n",
       "       [73.        , 79.        , 83.        , 89.        , 97.        ]],\n",
       "      dtype=float32)>"
      ]
     },
     "execution_count": 41,
     "metadata": {},
     "output_type": "execute_result"
    }
   ],
   "source": [
    "concat12 = tf.concat([concat1, concat2], axis = 0)\n",
    "concat12"
   ]
  },
  {
   "cell_type": "markdown",
   "id": "6682090f-08da-4ed8-a237-b5f619369c63",
   "metadata": {},
   "source": [
    "###  Hasil sorting dari kedua variable di atas (descending)"
   ]
  },
  {
   "cell_type": "code",
   "execution_count": 42,
   "id": "31e31a3a-66b4-4438-87c8-b4428abb61a3",
   "metadata": {},
   "outputs": [],
   "source": [
    "sort1 = random_tensor\n",
    "sort2= prime_tensor"
   ]
  },
  {
   "cell_type": "code",
   "execution_count": 43,
   "id": "a2365e9f-a0a9-401f-b4d6-e22a5c45775b",
   "metadata": {},
   "outputs": [
    {
     "data": {
      "text/plain": [
       "<tf.Tensor: shape=(2, 5, 5), dtype=float32, numpy=\n",
       "array([[[-0.50867236, -0.60065955, -0.8871544 , -1.0919173 ,\n",
       "         -1.1253885 ],\n",
       "        [ 0.9166867 ,  0.587739  , -0.29714295, -0.6092709 ,\n",
       "         -0.8393197 ],\n",
       "        [ 1.3851545 ,  0.8586742 ,  0.4848608 ,  0.2158733 ,\n",
       "         -0.10452037],\n",
       "        [ 0.76974714, -0.17181592, -0.31655243, -0.544253  ,\n",
       "         -1.0112499 ],\n",
       "        [ 1.8880543 ,  1.5303435 ,  0.12330144, -1.3278526 ,\n",
       "         -1.6810323 ]],\n",
       "\n",
       "       [[11.        ,  7.        ,  5.        ,  3.        ,\n",
       "          2.        ],\n",
       "        [29.        , 23.        , 19.        , 17.        ,\n",
       "         13.        ],\n",
       "        [47.        , 43.        , 41.        , 37.        ,\n",
       "         31.        ],\n",
       "        [71.        , 67.        , 61.        , 59.        ,\n",
       "         53.        ],\n",
       "        [97.        , 89.        , 83.        , 79.        ,\n",
       "         73.        ]]], dtype=float32)>"
      ]
     },
     "execution_count": 43,
     "metadata": {},
     "output_type": "execute_result"
    }
   ],
   "source": [
    "sort_desc = tf.sort([sort1, sort2], direction=\"DESCENDING\")\n",
    "sort_desc"
   ]
  },
  {
   "cell_type": "code",
   "execution_count": null,
   "id": "0fccdd46-ded8-4223-865b-1d48865aad91",
   "metadata": {},
   "outputs": [],
   "source": []
  }
 ],
 "metadata": {
  "kernelspec": {
   "display_name": "Python 3 (ipykernel)",
   "language": "python",
   "name": "python3"
  },
  "language_info": {
   "codemirror_mode": {
    "name": "ipython",
    "version": 3
   },
   "file_extension": ".py",
   "mimetype": "text/x-python",
   "name": "python",
   "nbconvert_exporter": "python",
   "pygments_lexer": "ipython3",
   "version": "3.10.7"
  }
 },
 "nbformat": 4,
 "nbformat_minor": 5
}
